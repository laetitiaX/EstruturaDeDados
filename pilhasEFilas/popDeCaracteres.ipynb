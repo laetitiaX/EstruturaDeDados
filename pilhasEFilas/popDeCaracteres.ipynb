{
 "cells": [
  {
   "cell_type": "code",
   "execution_count": 3,
   "metadata": {},
   "outputs": [
    {
     "name": "stdout",
     "output_type": "stream",
     "text": [
      "al"
     ]
    }
   ],
   "source": [
    "#100%\n",
    "from pythonds.basic.stack import Stack\n",
    "from pythonds.basic.queue import Queue\n",
    "\n",
    "lista = input()\n",
    "lista = list(lista)\n",
    "pilha = Stack()\n",
    "fila = Queue()\n",
    "\n",
    "for x in range(len(lista)):\n",
    "    if lista[x] != '*':\n",
    "        pilha.push(lista[x])\n",
    "    else: \n",
    "        if pilha.isEmpty() == False:\n",
    "            fila.enqueue(pilha.pop() )   \n",
    "\n",
    "while not fila.isEmpty():\n",
    "        print(fila.dequeue(),end='')\n",
    "\n",
    "\n"
   ]
  },
  {
   "cell_type": "code",
   "execution_count": null,
   "metadata": {},
   "outputs": [],
   "source": [
    "#Caso a biblioteca do pythonds não esteja disponível\n",
    "\n",
    "class Queue:\n",
    "    def __init__(self):\n",
    "        self.items = []\n",
    "\n",
    "    def isEmpty(self):\n",
    "        return self.items == []\n",
    "\n",
    "    def enqueue(self, item):\n",
    "        self.items.insert(0,item)\n",
    "\n",
    "    def dequeue(self):\n",
    "        return self.items.pop()\n",
    "\n",
    "    def size(self):\n",
    "        return len(self.items)\n",
    "\n",
    "class Stack:\n",
    "     def __init__(self):\n",
    "         self.items = []\n",
    "\n",
    "     def isEmpty(self):\n",
    "         return self.items == []\n",
    "\n",
    "     def push(self, item):\n",
    "         self.items.append(item)\n",
    "\n",
    "     def pop(self):\n",
    "         return self.items.pop()\n",
    "\n",
    "     def peek(self):\n",
    "         return self.items[len(self.items)-1]\n",
    "\n",
    "     def size(self):\n",
    "         return len(self.items)"
   ]
  }
 ],
 "metadata": {
  "kernelspec": {
   "display_name": "Python 3.10.4 ('.venv': venv)",
   "language": "python",
   "name": "python3"
  },
  "language_info": {
   "codemirror_mode": {
    "name": "ipython",
    "version": 3
   },
   "file_extension": ".py",
   "mimetype": "text/x-python",
   "name": "python",
   "nbconvert_exporter": "python",
   "pygments_lexer": "ipython3",
   "version": "3.10.4"
  },
  "orig_nbformat": 4,
  "vscode": {
   "interpreter": {
    "hash": "f9dba07e4eb67a377d905bc6d635dd56eb22843b097df3f88def100874c38ba6"
   }
  }
 },
 "nbformat": 4,
 "nbformat_minor": 2
}
