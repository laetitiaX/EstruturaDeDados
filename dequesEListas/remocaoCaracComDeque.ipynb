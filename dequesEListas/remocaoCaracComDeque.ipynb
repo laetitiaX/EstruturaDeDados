{
 "cells": [
  {
   "cell_type": "code",
   "execution_count": 80,
   "metadata": {},
   "outputs": [
    {
     "name": "stdout",
     "output_type": "stream",
     "text": [
      "rir,verb o brev e rir"
     ]
    }
   ],
   "source": [
    "#100%\n",
    "from pythonds.basic.deque import Deque\n",
    "\n",
    "lista = list(input())\n",
    "Deque = Deque()\n",
    "\n",
    "for x in range(len(lista)):\n",
    "\n",
    "    aux = str(lista[x])\n",
    "\n",
    "    if aux.isnumeric():\n",
    "        Deque.addRear(aux)\n",
    "    else:\n",
    "        if aux == '*' and not Deque.isEmpty(): \n",
    "            print(Deque.removeFront(),end='')\n",
    "        elif aux == '+' and not Deque.isEmpty():\n",
    "            print(Deque.removeRear(),end='')\n",
    "        else:\n",
    "            Deque.addFront(aux)\n",
    "\n"
   ]
  },
  {
   "cell_type": "code",
   "execution_count": null,
   "metadata": {},
   "outputs": [],
   "source": [
    "#class Deque:\n",
    "\n",
    "class Deque:\n",
    "    def __init__(self):\n",
    "        self.items = []\n",
    "\n",
    "    def isEmpty(self):\n",
    "        return self.items == []\n",
    "\n",
    "    def addFront(self, item):\n",
    "        self.items.append(item)\n",
    "\n",
    "    def addRear(self, item):\n",
    "        self.items.insert(0,item)\n",
    "\n",
    "    def removeFront(self):\n",
    "        return self.items.pop()\n",
    "\n",
    "    def removeRear(self):\n",
    "        return self.items.pop(0)\n",
    "\n",
    "    def size(self):\n",
    "        return len(self.items)"
   ]
  }
 ],
 "metadata": {
  "kernelspec": {
   "display_name": "Python 3.10.4 ('.venv': venv)",
   "language": "python",
   "name": "python3"
  },
  "language_info": {
   "codemirror_mode": {
    "name": "ipython",
    "version": 3
   },
   "file_extension": ".py",
   "mimetype": "text/x-python",
   "name": "python",
   "nbconvert_exporter": "python",
   "pygments_lexer": "ipython3",
   "version": "3.10.4"
  },
  "orig_nbformat": 4,
  "vscode": {
   "interpreter": {
    "hash": "f9dba07e4eb67a377d905bc6d635dd56eb22843b097df3f88def100874c38ba6"
   }
  }
 },
 "nbformat": 4,
 "nbformat_minor": 2
}
