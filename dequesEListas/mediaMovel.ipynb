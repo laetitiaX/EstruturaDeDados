{
 "cells": [
  {
   "cell_type": "code",
   "execution_count": 30,
   "metadata": {},
   "outputs": [],
   "source": [
    "class Deque:\n",
    "    def __init__(self):\n",
    "        self.items = []\n",
    "\n",
    "    def isEmpty(self):\n",
    "        return self.items == []\n",
    "\n",
    "    def addFront(self, item):\n",
    "        self.items.append(item)\n",
    "\n",
    "    def addRear(self, item):\n",
    "        self.items.insert(0,item)\n",
    "\n",
    "    def removeFront(self):\n",
    "        return self.items.pop()\n",
    "\n",
    "    def removeRear(self):\n",
    "        return self.items.pop(0)\n",
    "\n",
    "    def size(self):\n",
    "        return len(self.items)\n",
    "\n",
    "lista = Deque()\n",
    "m, n = input().strip().split()\n",
    "mediaMovel = []\n",
    "somatorio = 0\n",
    "aux = input()\n",
    "aux = aux.split()\n",
    "m = int(m)\n",
    "n = int(n)\n",
    "i = 0\n",
    "\n",
    "for i in range(m):\n",
    "    lista.addRear(aux[i])\n",
    "\n",
    "while lista.size() >= n : \n",
    "    somatorio = 0\n",
    "    copia = []\n",
    "    i = 0\n",
    "    l = 0\n",
    "    for l in range(n):\n",
    "        aux = int(lista.removeFront())\n",
    "        copia.append(aux)\n",
    "        somatorio += aux  \n",
    "\n",
    "    mediaMovel.append(round(somatorio/n))\n",
    "\n",
    "    copia = copia[1:]\n",
    "    copia.reverse()\n",
    "    for i in range(n-1):\n",
    "        lista.addFront(copia[i])\n",
    "\n",
    "for s in range(len(mediaMovel)):\n",
    "    print(f'%.2f'%mediaMovel[s])\n",
    "\n"
   ]
  }
 ],
 "metadata": {
  "kernelspec": {
   "display_name": "Python 3.10.4 ('.venv': venv)",
   "language": "python",
   "name": "python3"
  },
  "language_info": {
   "codemirror_mode": {
    "name": "ipython",
    "version": 3
   },
   "file_extension": ".py",
   "mimetype": "text/x-python",
   "name": "python",
   "nbconvert_exporter": "python",
   "pygments_lexer": "ipython3",
   "version": "3.10.4"
  },
  "orig_nbformat": 4,
  "vscode": {
   "interpreter": {
    "hash": "f9dba07e4eb67a377d905bc6d635dd56eb22843b097df3f88def100874c38ba6"
   }
  }
 },
 "nbformat": 4,
 "nbformat_minor": 2
}
