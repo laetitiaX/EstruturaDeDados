{
 "cells": [
  {
   "cell_type": "code",
   "execution_count": 1,
   "metadata": {},
   "outputs": [
    {
     "ename": "NameError",
     "evalue": "name 'UnorderedList' is not defined",
     "output_type": "error",
     "traceback": [
      "\u001b[1;31m---------------------------------------------------------------------------\u001b[0m",
      "\u001b[1;31mNameError\u001b[0m                                 Traceback (most recent call last)",
      "\u001b[1;32mCGTIC\\SISTEMAS\\SESIS\\Estágio\\Letícia\\ED UNB\\dequesEListas\\maiorSequenciaComun.ipynb Cell 1'\u001b[0m in \u001b[0;36m<cell line: 16>\u001b[1;34m()\u001b[0m\n\u001b[0;32m     <a href='vscode-notebook-cell://funaifs01/CGTIC/SISTEMAS/SESIS/Est%C3%A1gio/Let%C3%ADcia/ED%20UNB/dequesEListas/maiorSequenciaComun.ipynb#ch0000000?line=12'>13</a>\u001b[0m     lista \u001b[39m=\u001b[39m sarsCov \n\u001b[0;32m     <a href='vscode-notebook-cell://funaifs01/CGTIC/SISTEMAS/SESIS/Est%C3%A1gio/Let%C3%ADcia/ED%20UNB/dequesEListas/maiorSequenciaComun.ipynb#ch0000000?line=13'>14</a>\u001b[0m     comparador \u001b[39m=\u001b[39m influenza\n\u001b[1;32m---> <a href='vscode-notebook-cell://funaifs01/CGTIC/SISTEMAS/SESIS/Est%C3%A1gio/Let%C3%ADcia/ED%20UNB/dequesEListas/maiorSequenciaComun.ipynb#ch0000000?line=15'>16</a>\u001b[0m listaOrd \u001b[39m=\u001b[39m UnorderedList()\n\u001b[0;32m     <a href='vscode-notebook-cell://funaifs01/CGTIC/SISTEMAS/SESIS/Est%C3%A1gio/Let%C3%ADcia/ED%20UNB/dequesEListas/maiorSequenciaComun.ipynb#ch0000000?line=17'>18</a>\u001b[0m \u001b[39mfor\u001b[39;00m l \u001b[39min\u001b[39;00m \u001b[39mrange\u001b[39m(\u001b[39mlen\u001b[39m(lista)):\n\u001b[0;32m     <a href='vscode-notebook-cell://funaifs01/CGTIC/SISTEMAS/SESIS/Est%C3%A1gio/Let%C3%ADcia/ED%20UNB/dequesEListas/maiorSequenciaComun.ipynb#ch0000000?line=18'>19</a>\u001b[0m     listaOrd\u001b[39m.\u001b[39madd(lista[l])\n",
      "\u001b[1;31mNameError\u001b[0m: name 'UnorderedList' is not defined"
     ]
    }
   ],
   "source": [
    "class Node:\n",
    "    def __init__(self,initdata):\n",
    "        self.data = initdata\n",
    "        self.next = None\n",
    "\n",
    "    def getData(self):\n",
    "        return self.data\n",
    "\n",
    "    def getNext(self):\n",
    "        return self.next\n",
    "\n",
    "    def setData(self,newdata):\n",
    "        self.data = newdata\n",
    "\n",
    "    def setNext(self,newnext):\n",
    "        self.next = newnext\n",
    "\n",
    "\n",
    "class UnorderedList:\n",
    "\n",
    "    def __init__(self):\n",
    "        self.head = None\n",
    "\n",
    "    def __str__(self):\n",
    "        tmp = self.head\n",
    "        lstr = ''\n",
    "        while tmp != None:\n",
    "            lstr += str(tmp.data) + ' '\n",
    "            tmp = tmp.getNext()\n",
    "            \n",
    "        return lstr\n",
    "\n",
    "    def isEmpty(self):\n",
    "        return self.head == None\n",
    "\n",
    "    def add(self,item):\n",
    "        temp = Node(item)\n",
    "        temp.setNext(self.head)\n",
    "        self.head = temp\n",
    "\n",
    "    def size(self):\n",
    "        current = self.head\n",
    "        count = 0\n",
    "        while current != None:\n",
    "            count = count + 1\n",
    "            current = current.getNext()\n",
    "\n",
    "        return count\n",
    "\n",
    "    def search(self,item):\n",
    "        current = self.head\n",
    "        found = False\n",
    "        while current != None and not found:\n",
    "            if current.getData() == item:\n",
    "                found = True\n",
    "            else:\n",
    "                current = current.getNext()\n",
    "\n",
    "        return found\n",
    "\n",
    "    def remove(self,item):\n",
    "        if self.search(item) == True:\n",
    "            current = self.head\n",
    "            previous = None\n",
    "            found = False\n",
    "            while not found:\n",
    "                if current.getData() == item:\n",
    "                    \n",
    "                    found = True\n",
    "                else:\n",
    "                    previous = current\n",
    "                    current = current.getNext()\n",
    "\n",
    "            if previous == None:\n",
    "                self.head = current.getNext()\n",
    "            else:\n",
    "                previous.setNext(current.getNext())\n",
    "\n",
    "    def index(self,item):\n",
    "        current = self.head\n",
    "        count = 0\n",
    "        while current != None:\n",
    "            count = count + 1\n",
    "            if current.getData() == item:\n",
    "                return count\n",
    "            else:\n",
    "                current = current.getNext()\n",
    "\n",
    "        return count\n",
    "\n",
    "        "
   ]
  },
  {
   "cell_type": "code",
   "execution_count": null,
   "metadata": {},
   "outputs": [
    {
     "name": "stdout",
     "output_type": "stream",
     "text": [
      "0\n"
     ]
    }
   ],
   "source": [
    "x = [2,3,4,5]\n",
    "print(x.index(2))"
   ]
  },
  {
   "cell_type": "code",
   "execution_count": 35,
   "metadata": {},
   "outputs": [
    {
     "name": "stdout",
     "output_type": "stream",
     "text": [
      "7\n",
      "1\n"
     ]
    }
   ],
   "source": [
    "#from pythonds.basic.list import Lista\n",
    "\n",
    "influenza = input()\n",
    "sarsCov = input()\n",
    "\n",
    "influenza = list(influenza)\n",
    "sarsCov = list(sarsCov)\n",
    "\n",
    "if len(influenza) >= len(sarsCov):\n",
    "    lista = influenza \n",
    "    comparador = sarsCov\n",
    "else:\n",
    "    lista = sarsCov \n",
    "    comparador = influenza\n",
    "\n",
    "listaOrd = UnorderedList()\n",
    "\n",
    "for l in range(len(lista)):\n",
    "    listaOrd.add(lista[l])\n",
    "\n",
    "\n",
    "print(listaOrd.size())\n",
    "print(listaOrd.index('A'))"
   ]
  },
  {
   "cell_type": "code",
   "execution_count": null,
   "metadata": {},
   "outputs": [],
   "source": []
  }
 ],
 "metadata": {
  "kernelspec": {
   "display_name": "Python 3.10.4 ('.venv': venv)",
   "language": "python",
   "name": "python3"
  },
  "language_info": {
   "codemirror_mode": {
    "name": "ipython",
    "version": 3
   },
   "file_extension": ".py",
   "mimetype": "text/x-python",
   "name": "python",
   "nbconvert_exporter": "python",
   "pygments_lexer": "ipython3",
   "version": "3.10.4"
  },
  "orig_nbformat": 4,
  "vscode": {
   "interpreter": {
    "hash": "f9dba07e4eb67a377d905bc6d635dd56eb22843b097df3f88def100874c38ba6"
   }
  }
 },
 "nbformat": 4,
 "nbformat_minor": 2
}
