{
 "cells": [
  {
   "cell_type": "code",
   "execution_count": 7,
   "metadata": {},
   "outputs": [
    {
     "name": "stdout",
     "output_type": "stream",
     "text": [
      "0\n",
      "9\n",
      "8\n",
      "6\n",
      "2\n"
     ]
    }
   ],
   "source": [
    "##100%\n",
    "\n",
    "cont = int(input())\n",
    "ira = []\n",
    "\n",
    "for l in range(cont):\n",
    "    ira.append(float(input()))\n",
    "\n",
    "ira =sorted(ira,reverse=True)\n",
    "\n",
    "\n",
    "for i in range(cont):\n",
    "    print(f'%.2f'%ira[i])"
   ]
  }
 ],
 "metadata": {
  "kernelspec": {
   "display_name": "Python 3.10.4 ('.venv': venv)",
   "language": "python",
   "name": "python3"
  },
  "language_info": {
   "codemirror_mode": {
    "name": "ipython",
    "version": 3
   },
   "file_extension": ".py",
   "mimetype": "text/x-python",
   "name": "python",
   "nbconvert_exporter": "python",
   "pygments_lexer": "ipython3",
   "version": "3.10.4"
  },
  "orig_nbformat": 4,
  "vscode": {
   "interpreter": {
    "hash": "f9dba07e4eb67a377d905bc6d635dd56eb22843b097df3f88def100874c38ba6"
   }
  }
 },
 "nbformat": 4,
 "nbformat_minor": 2
}
