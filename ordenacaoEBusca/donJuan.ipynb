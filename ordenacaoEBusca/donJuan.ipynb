{
 "cells": [
  {
   "cell_type": "code",
   "execution_count": null,
   "metadata": {},
   "outputs": [],
   "source": []
  },
  {
   "cell_type": "code",
   "execution_count": 12,
   "metadata": {},
   "outputs": [
    {
     "name": "stdout",
     "output_type": "stream",
     "text": [
      "[('isa', 3), 'eliminada', 'eliminada']\n"
     ]
    }
   ],
   "source": [
    "from operator import itemgetter\n",
    "\n",
    "def verificaEmpate(lista,parametro):\n",
    "    for i in range(len(lista)-1):\n",
    "        if lista[i+1][1] == parametro:\n",
    "            lista[i+1] = 'eliminada'\n",
    "            lista[i] = 'eliminada'\n",
    "    return lista\n",
    "\n",
    "n = int(input())\n",
    "pretendentes = []\n",
    "\n",
    "for l in range(n):\n",
    "    listaAux = []\n",
    "    nome = input()\n",
    "    aux = int(len(nome))\n",
    "    listaAux.append(nome)\n",
    "    listaAux.append(aux)\n",
    "    pretendentes.append(tuple(listaAux))\n",
    "\n",
    "pretendentes = sorted(pretendentes, key=itemgetter(1))\n",
    "\n",
    "for l in range(len(pretendentes)):\n",
    "    x = int(pretendentes[n-1][1])\n",
    "\n",
    "#aq = verificaEmpate(pretendentes,x)\n",
    "\n",
    "print(aq)\n",
    "#while 'eliminada' in pretendentes:\n",
    " #   pretendentes.remove('eliminada')\n",
    "\n",
    "#print(aq)\n",
    "\n",
    "\n",
    "\n"
   ]
  },
  {
   "cell_type": "code",
   "execution_count": null,
   "metadata": {},
   "outputs": [],
   "source": [
    "E"
   ]
  }
 ],
 "metadata": {
  "kernelspec": {
   "display_name": "Python 3.10.4 ('.venv': venv)",
   "language": "python",
   "name": "python3"
  },
  "language_info": {
   "codemirror_mode": {
    "name": "ipython",
    "version": 3
   },
   "file_extension": ".py",
   "mimetype": "text/x-python",
   "name": "python",
   "nbconvert_exporter": "python",
   "pygments_lexer": "ipython3",
   "version": "3.10.4"
  },
  "orig_nbformat": 4,
  "vscode": {
   "interpreter": {
    "hash": "f9dba07e4eb67a377d905bc6d635dd56eb22843b097df3f88def100874c38ba6"
   }
  }
 },
 "nbformat": 4,
 "nbformat_minor": 2
}
