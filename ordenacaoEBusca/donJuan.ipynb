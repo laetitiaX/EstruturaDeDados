{
 "cells": [
  {
   "cell_type": "code",
   "execution_count": null,
   "metadata": {},
   "outputs": [],
   "source": []
  },
  {
   "cell_type": "code",
   "execution_count": 65,
   "metadata": {},
   "outputs": [
    {
     "name": "stdout",
     "output_type": "stream",
     "text": [
      "pocotoa eguinha\n",
      "bibi e\n",
      "gigi bibi\n",
      "ju gigi\n",
      "[['ju', 2], ['gigi', 4], ['bibi', 4], 'eliminada', 'eliminada']\n",
      "bibi\n"
     ]
    }
   ],
   "source": [
    "from operator import itemgetter\n",
    "\n",
    "n = int(input())\n",
    "pretendentes = []\n",
    "\n",
    "for l in range(n):\n",
    "    listaAux = []\n",
    "    nome = input()\n",
    "    aux = int(len(nome))\n",
    "    listaAux.append(nome)\n",
    "    listaAux.append(aux)\n",
    "    pretendentes.append(listaAux)\n",
    "\n",
    "pretendentes = sorted(pretendentes, key=itemgetter(1))\n",
    "x = len(pretendentes)-1\n",
    "anterior = pretendentes[x][1] \n",
    "x -= 1\n",
    "while x >= 0:\n",
    "\n",
    "    if pretendentes[x][1] == anterior:\n",
    "        anterior = pretendentes[x][1]\n",
    "        pretendentes[x] = 'eliminada'\n",
    "        pretendentes[x+1] = 'eliminada'\n",
    "    else:\n",
    "        anterior = pretendentes[x][1]\n",
    "    x -= 1\n",
    "\n",
    "while 'eliminada' in pretendentes:\n",
    "    pretendentes.remove('eliminada')\n",
    "if len(pretendentes) == 0 :\n",
    "    print('Que mala suerte!')\n",
    "else:\n",
    "    print(pretendentes[len(pretendentes)-1][0])"
   ]
  }
 ],
 "metadata": {
  "kernelspec": {
   "display_name": "Python 3.10.4 ('.venv': venv)",
   "language": "python",
   "name": "python3"
  },
  "language_info": {
   "codemirror_mode": {
    "name": "ipython",
    "version": 3
   },
   "file_extension": ".py",
   "mimetype": "text/x-python",
   "name": "python",
   "nbconvert_exporter": "python",
   "pygments_lexer": "ipython3",
   "version": "3.10.4"
  },
  "orig_nbformat": 4,
  "vscode": {
   "interpreter": {
    "hash": "f9dba07e4eb67a377d905bc6d635dd56eb22843b097df3f88def100874c38ba6"
   }
  }
 },
 "nbformat": 4,
 "nbformat_minor": 2
}
