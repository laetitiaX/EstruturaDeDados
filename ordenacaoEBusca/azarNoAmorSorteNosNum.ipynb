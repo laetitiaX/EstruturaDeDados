{
 "cells": [
  {
   "cell_type": "code",
   "execution_count": 62,
   "metadata": {},
   "outputs": [
    {
     "name": "stdout",
     "output_type": "stream",
     "text": [
      "aaa\n",
      "bbb\n",
      "BANANA\n",
      "bbb\n",
      "\n",
      "You died!\n",
      "It's in the box!\n",
      "aaa\n"
     ]
    }
   ],
   "source": [
    "contador = int(input())\n",
    "\n",
    "for l in range(contador):\n",
    "    print('aaa')\n",
    "    c = False\n",
    "    planoEn = input()\n",
    "    planoCopia = planoEn\n",
    "    for i in range(2):\n",
    "        print('bbb')\n",
    "        print(planoEn)\n",
    "        conteudo = input()\n",
    "        if conteudo in planoEn:\n",
    "            planoEn = planoEn.replace(conteudo,'')\n",
    "        elif conteudo[::-1] in planoEn:\n",
    "            planoEn = planoEn.replace(conteudo[::-1],'')\n",
    "        elif conteudo not in planoCopia:\n",
    "            \n",
    "            print('You died!')\n",
    "            break\n",
    "    if planoEn == '':\n",
    "        print(\"It's in the box!\")\n",
    "    else:\n",
    "        print(f'Bora ralar!: {planoEn}')\n",
    "    \n",
    "\n",
    "\n",
    "\n",
    "\n"
   ]
  },
  {
   "cell_type": "code",
   "execution_count": 23,
   "metadata": {},
   "outputs": [
    {
     "name": "stdout",
     "output_type": "stream",
     "text": [
      "ok\n",
      "\n"
     ]
    }
   ],
   "source": [
    "x = input()\n",
    "ana = input()\n",
    "if ana in x :\n",
    "    print('ok')\n",
    "    x = x.replace(ana,'')\n",
    "    print(x)\n",
    "else:\n",
    "    print('no')"
   ]
  },
  {
   "cell_type": "code",
   "execution_count": 36,
   "metadata": {},
   "outputs": [
    {
     "name": "stdout",
     "output_type": "stream",
     "text": [
      "aul\n"
     ]
    }
   ],
   "source": [
    "x = 'lua'\n",
    "x = x[::-1]\n",
    "print(x)"
   ]
  }
 ],
 "metadata": {
  "kernelspec": {
   "display_name": "Python 3.10.4 ('.venv': venv)",
   "language": "python",
   "name": "python3"
  },
  "language_info": {
   "codemirror_mode": {
    "name": "ipython",
    "version": 3
   },
   "file_extension": ".py",
   "mimetype": "text/x-python",
   "name": "python",
   "nbconvert_exporter": "python",
   "pygments_lexer": "ipython3",
   "version": "3.10.4"
  },
  "orig_nbformat": 4,
  "vscode": {
   "interpreter": {
    "hash": "f9dba07e4eb67a377d905bc6d635dd56eb22843b097df3f88def100874c38ba6"
   }
  }
 },
 "nbformat": 4,
 "nbformat_minor": 2
}
