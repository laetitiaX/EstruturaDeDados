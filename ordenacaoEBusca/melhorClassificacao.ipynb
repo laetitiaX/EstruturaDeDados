{
 "cells": [
  {
   "cell_type": "code",
   "execution_count": 86,
   "metadata": {},
   "outputs": [
    {
     "ename": "ValueError",
     "evalue": "invalid literal for int() with base 10: ''",
     "output_type": "error",
     "traceback": [
      "\u001b[1;31m---------------------------------------------------------------------------\u001b[0m",
      "\u001b[1;31mValueError\u001b[0m                                Traceback (most recent call last)",
      "\u001b[1;32mCGTIC\\SISTEMAS\\SESIS\\Estágio\\Letícia\\ED UNB\\ordenacaoEBusca\\melhorClassificacao.ipynb Célula: 1\u001b[0m in \u001b[0;36m<cell line: 11>\u001b[1;34m()\u001b[0m\n\u001b[0;32m      <a href='vscode-notebook-cell://funaifs01/CGTIC/SISTEMAS/SESIS/Est%C3%A1gio/Let%C3%ADcia/ED%20UNB/ordenacaoEBusca/melhorClassificacao.ipynb#ch0000000?line=7'>8</a>\u001b[0m                 alist[i], alist[i \u001b[39m+\u001b[39m \u001b[39m1\u001b[39m] \u001b[39m=\u001b[39m alist[i \u001b[39m+\u001b[39m \u001b[39m1\u001b[39m], alist[i]\n\u001b[0;32m      <a href='vscode-notebook-cell://funaifs01/CGTIC/SISTEMAS/SESIS/Est%C3%A1gio/Let%C3%ADcia/ED%20UNB/ordenacaoEBusca/melhorClassificacao.ipynb#ch0000000?line=8'>9</a>\u001b[0m     \u001b[39mreturn\u001b[39;00m alist\n\u001b[1;32m---> <a href='vscode-notebook-cell://funaifs01/CGTIC/SISTEMAS/SESIS/Est%C3%A1gio/Let%C3%ADcia/ED%20UNB/ordenacaoEBusca/melhorClassificacao.ipynb#ch0000000?line=10'>11</a>\u001b[0m O,D,T,I  \u001b[39m=\u001b[39m [\u001b[39mint\u001b[39m(i)\u001b[39mfor\u001b[39;00m i \u001b[39min\u001b[39;00m \u001b[39minput\u001b[39m()\u001b[39m.\u001b[39mstrip()\u001b[39m.\u001b[39msplit(\u001b[39m'\u001b[39m\u001b[39m \u001b[39m\u001b[39m'\u001b[39m)]\n\u001b[0;32m     <a href='vscode-notebook-cell://funaifs01/CGTIC/SISTEMAS/SESIS/Est%C3%A1gio/Let%C3%ADcia/ED%20UNB/ordenacaoEBusca/melhorClassificacao.ipynb#ch0000000?line=11'>12</a>\u001b[0m disputa \u001b[39m=\u001b[39m \u001b[39mint\u001b[39m(\u001b[39minput\u001b[39m())\n\u001b[0;32m     <a href='vscode-notebook-cell://funaifs01/CGTIC/SISTEMAS/SESIS/Est%C3%A1gio/Let%C3%ADcia/ED%20UNB/ordenacaoEBusca/melhorClassificacao.ipynb#ch0000000?line=13'>14</a>\u001b[0m pontuacao \u001b[39m=\u001b[39m [] \n",
      "\u001b[1;32mCGTIC\\SISTEMAS\\SESIS\\Estágio\\Letícia\\ED UNB\\ordenacaoEBusca\\melhorClassificacao.ipynb Célula: 1\u001b[0m in \u001b[0;36m<listcomp>\u001b[1;34m(.0)\u001b[0m\n\u001b[0;32m      <a href='vscode-notebook-cell://funaifs01/CGTIC/SISTEMAS/SESIS/Est%C3%A1gio/Let%C3%ADcia/ED%20UNB/ordenacaoEBusca/melhorClassificacao.ipynb#ch0000000?line=7'>8</a>\u001b[0m                 alist[i], alist[i \u001b[39m+\u001b[39m \u001b[39m1\u001b[39m] \u001b[39m=\u001b[39m alist[i \u001b[39m+\u001b[39m \u001b[39m1\u001b[39m], alist[i]\n\u001b[0;32m      <a href='vscode-notebook-cell://funaifs01/CGTIC/SISTEMAS/SESIS/Est%C3%A1gio/Let%C3%ADcia/ED%20UNB/ordenacaoEBusca/melhorClassificacao.ipynb#ch0000000?line=8'>9</a>\u001b[0m     \u001b[39mreturn\u001b[39;00m alist\n\u001b[1;32m---> <a href='vscode-notebook-cell://funaifs01/CGTIC/SISTEMAS/SESIS/Est%C3%A1gio/Let%C3%ADcia/ED%20UNB/ordenacaoEBusca/melhorClassificacao.ipynb#ch0000000?line=10'>11</a>\u001b[0m O,D,T,I  \u001b[39m=\u001b[39m [\u001b[39mint\u001b[39;49m(i)\u001b[39mfor\u001b[39;00m i \u001b[39min\u001b[39;00m \u001b[39minput\u001b[39m()\u001b[39m.\u001b[39mstrip()\u001b[39m.\u001b[39msplit(\u001b[39m'\u001b[39m\u001b[39m \u001b[39m\u001b[39m'\u001b[39m)]\n\u001b[0;32m     <a href='vscode-notebook-cell://funaifs01/CGTIC/SISTEMAS/SESIS/Est%C3%A1gio/Let%C3%ADcia/ED%20UNB/ordenacaoEBusca/melhorClassificacao.ipynb#ch0000000?line=11'>12</a>\u001b[0m disputa \u001b[39m=\u001b[39m \u001b[39mint\u001b[39m(\u001b[39minput\u001b[39m())\n\u001b[0;32m     <a href='vscode-notebook-cell://funaifs01/CGTIC/SISTEMAS/SESIS/Est%C3%A1gio/Let%C3%ADcia/ED%20UNB/ordenacaoEBusca/melhorClassificacao.ipynb#ch0000000?line=13'>14</a>\u001b[0m pontuacao \u001b[39m=\u001b[39m [] \n",
      "\u001b[1;31mValueError\u001b[0m: invalid literal for int() with base 10: ''"
     ]
    }
   ],
   "source": [
    "import random\n",
    "def bubbleSort(alist,index):\n",
    "\n",
    "    for passnum in range(len(alist) - 1, 0, -1):\n",
    "        for i in range(passnum):\n",
    "            if alist[i][index] > alist[i + 1][index]:\n",
    "\n",
    "                alist[i], alist[i + 1] = alist[i + 1], alist[i]\n",
    "    return alist\n",
    "\n",
    "O,D,T,I  = [int(i)for i in input().strip().split(' ')]\n",
    "disputa = int(input())\n",
    "\n",
    "pontuacao = [] \n",
    "P = 2*O + 3*D + T\n",
    "aux = 'p',O,D,T,I,P\n",
    "listaAux  = []\n",
    "\n",
    "for l in range(len(aux)):\n",
    "    listaAux.append(aux[l])\n",
    "\n",
    "pontuacao.append(listaAux)\n",
    "\n",
    "print(pontuacao)\n",
    "\n",
    "for l in range(disputa):\n",
    "    listaAux = []\n",
    "    O,D,T,I  = [int(i)for i in input().strip().split(' ')]\n",
    "    P = 2*O + 3*D + T\n",
    "    aux = 'c',O,D,T,I,P \n",
    "    for l in range(len(aux)):\n",
    "        listaAux.append(aux[l])\n",
    "\n",
    "    pontuacao.append(listaAux)\n",
    "\n",
    "print(pontuacao,'pont')\n",
    "\n",
    "classificacao = bubbleSort(bubbleSort(bubbleSort(bubbleSort(bubbleSort(pontuacao,1),2),3),4),5)\n",
    "\n",
    "print(classificacao)\n",
    "\n",
    "\n",
    "\n",
    "\n",
    "\n"
   ]
  },
  {
   "cell_type": "code",
   "execution_count": 70,
   "metadata": {},
   "outputs": [
    {
     "name": "stdout",
     "output_type": "stream",
     "text": [
      "1\n"
     ]
    },
    {
     "ename": "IndexError",
     "evalue": "list index out of range",
     "output_type": "error",
     "traceback": [
      "\u001b[1;31m---------------------------------------------------------------------------\u001b[0m",
      "\u001b[1;31mIndexError\u001b[0m                                Traceback (most recent call last)",
      "\u001b[1;32mCGTIC\\SISTEMAS\\SESIS\\Estágio\\Letícia\\ED UNB\\ordenacaoEBusca\\melhorClassificacao.ipynb Célula: 2\u001b[0m in \u001b[0;36m<cell line: 4>\u001b[1;34m()\u001b[0m\n\u001b[0;32m      <a href='vscode-notebook-cell://funaifs01/CGTIC/SISTEMAS/SESIS/Est%C3%A1gio/Let%C3%ADcia/ED%20UNB/ordenacaoEBusca/melhorClassificacao.ipynb#ch0000002?line=0'>1</a>\u001b[0m n \u001b[39m=\u001b[39m [[\u001b[39m'\u001b[39m\u001b[39mp\u001b[39m\u001b[39m'\u001b[39m, \u001b[39m50\u001b[39m, \u001b[39m80\u001b[39m, \u001b[39m15\u001b[39m, \u001b[39m35\u001b[39m, \u001b[39m355\u001b[39m]]\n\u001b[0;32m      <a href='vscode-notebook-cell://funaifs01/CGTIC/SISTEMAS/SESIS/Est%C3%A1gio/Let%C3%ADcia/ED%20UNB/ordenacaoEBusca/melhorClassificacao.ipynb#ch0000002?line=1'>2</a>\u001b[0m \u001b[39mprint\u001b[39m(n[\u001b[39m0\u001b[39m]\u001b[39m.\u001b[39mcount(\u001b[39m355\u001b[39m))\n\u001b[1;32m----> <a href='vscode-notebook-cell://funaifs01/CGTIC/SISTEMAS/SESIS/Est%C3%A1gio/Let%C3%ADcia/ED%20UNB/ordenacaoEBusca/melhorClassificacao.ipynb#ch0000002?line=3'>4</a>\u001b[0m x \u001b[39m=\u001b[39m  n[disputa][\u001b[39m5\u001b[39m]\n\u001b[0;32m      <a href='vscode-notebook-cell://funaifs01/CGTIC/SISTEMAS/SESIS/Est%C3%A1gio/Let%C3%ADcia/ED%20UNB/ordenacaoEBusca/melhorClassificacao.ipynb#ch0000002?line=4'>5</a>\u001b[0m \u001b[39mfor\u001b[39;00m l \u001b[39min\u001b[39;00m \u001b[39mrange\u001b[39m(disputa):\n\u001b[0;32m      <a href='vscode-notebook-cell://funaifs01/CGTIC/SISTEMAS/SESIS/Est%C3%A1gio/Let%C3%ADcia/ED%20UNB/ordenacaoEBusca/melhorClassificacao.ipynb#ch0000002?line=5'>6</a>\u001b[0m     \u001b[39mif\u001b[39;00m n[l][\u001b[39m5\u001b[39m] \u001b[39m!=\u001b[39m x:\n",
      "\u001b[1;31mIndexError\u001b[0m: list index out of range"
     ]
    }
   ],
   "source": [
    "n = [['p', 50, 80, 15, 35, 355]]\n",
    "print(n[0].count(355))\n",
    "\n",
    "x =  n[disputa][5]\n",
    "for l in range(disputa):\n",
    "    if n[l][5] != x:\n",
    "        n[l] ='eliminado'\n",
    "\n",
    "while 'eliminado' in n:\n",
    "    n.remove('eliminado')"
   ]
  },
  {
   "cell_type": "code",
   "execution_count": null,
   "metadata": {},
   "outputs": [],
   "source": [
    "\n",
    "    \n",
    "\n",
    "\n",
    "\n"
   ]
  }
 ],
 "metadata": {
  "kernelspec": {
   "display_name": "Python 3.10.4 ('.venv': venv)",
   "language": "python",
   "name": "python3"
  },
  "language_info": {
   "codemirror_mode": {
    "name": "ipython",
    "version": 3
   },
   "file_extension": ".py",
   "mimetype": "text/x-python",
   "name": "python",
   "nbconvert_exporter": "python",
   "pygments_lexer": "ipython3",
   "version": "3.10.4"
  },
  "orig_nbformat": 4,
  "vscode": {
   "interpreter": {
    "hash": "f9dba07e4eb67a377d905bc6d635dd56eb22843b097df3f88def100874c38ba6"
   }
  }
 },
 "nbformat": 4,
 "nbformat_minor": 2
}
